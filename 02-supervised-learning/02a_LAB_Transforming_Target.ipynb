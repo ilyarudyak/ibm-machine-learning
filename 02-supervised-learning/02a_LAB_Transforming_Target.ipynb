{
 "cells": [
  {
   "cell_type": "markdown",
   "metadata": {},
   "source": [
    "## Setup"
   ]
  },
  {
   "cell_type": "code",
   "execution_count": 43,
   "id": "953bcfa2-387f-4bf6-abf4-5545f33e6512",
   "metadata": {},
   "outputs": [],
   "source": [
    "import numpy as np\n",
    "import pandas as pd\n",
    "import matplotlib.pyplot as plt\n",
    "import seaborn as sns\n",
    "import scipy\n",
    "from scipy import stats\n",
    "import sklearn\n",
    "sns.set_theme()\n",
    "# %matplotlib inline\n",
    "\n",
    "# Surpress warnings:\n",
    "# def warn(*args, **kwargs):\n",
    "#     pass\n",
    "# import warnings\n",
    "# warnings.warn = warn"
   ]
  },
  {
   "cell_type": "markdown",
   "id": "3ca018a6-dc91-458e-b2ac-da28c65d2282",
   "metadata": {},
   "source": [
    "In the following cells we will load the data and define some useful plotting functions.\n"
   ]
  },
  {
   "cell_type": "code",
   "execution_count": 2,
   "id": "f7a2c815-4754-4141-966e-fe964309fea4",
   "metadata": {},
   "outputs": [],
   "source": [
    "np.random.seed(72018)\n",
    "\n",
    "\n",
    "def to_2d(array):\n",
    "    return array.reshape(array.shape[0], -1)\n",
    "    \n",
    "def plot_exponential_data():\n",
    "    data = np.exp(np.random.normal(size=1000))\n",
    "    plt.hist(data)\n",
    "    plt.show()\n",
    "    return data\n",
    "    \n",
    "def plot_square_normal_data():\n",
    "    data = np.square(np.random.normal(loc=5, size=1000))\n",
    "    plt.hist(data)\n",
    "    plt.show()\n",
    "    return data"
   ]
  },
  {
   "cell_type": "code",
   "execution_count": 19,
   "metadata": {},
   "outputs": [],
   "source": [
    "def get_k2test_pvalue(data, round_digits=6):\n",
    "    test = stats.mstats.normaltest(data).pvalue\n",
    "    if round_digits is not None:\n",
    "        test = test.round(round_digits).item()\n",
    "    return test"
   ]
  },
  {
   "cell_type": "code",
   "execution_count": null,
   "id": "77905866-5313-415b-ac5b-c8e66cbd221f",
   "metadata": {},
   "outputs": [],
   "source": [
    "# !wget \"https://cf-courses-data.s3.us.cloud-object-storage.appdomain.cloud/IBM-ML240EN-SkillsNetwork/labs/data/boston_housing_clean.pickle\""
   ]
  },
  {
   "cell_type": "markdown",
   "id": "ff9a021f-470c-4b11-8dab-d278f0283578",
   "metadata": {},
   "source": [
    "### Loading the Boston Housing Data\n"
   ]
  },
  {
   "cell_type": "code",
   "execution_count": 3,
   "id": "d68620b1-0cec-49e2-b5d0-72d51fd4dab1",
   "metadata": {},
   "outputs": [],
   "source": [
    "filename = 'data/boston_housing_clean.pickle'\n",
    "with open(filename, 'rb') as to_read:\n",
    "    boston = pd.read_pickle(to_read)\n",
    "boston_data = boston['dataframe']\n",
    "boston_description = boston['description']"
   ]
  },
  {
   "cell_type": "code",
   "execution_count": 6,
   "id": "69d66928-b736-46c3-9ec0-faecb7bcc614",
   "metadata": {},
   "outputs": [
    {
     "data": {
      "text/html": [
       "<div>\n",
       "<style scoped>\n",
       "    .dataframe tbody tr th:only-of-type {\n",
       "        vertical-align: middle;\n",
       "    }\n",
       "\n",
       "    .dataframe tbody tr th {\n",
       "        vertical-align: top;\n",
       "    }\n",
       "\n",
       "    .dataframe thead th {\n",
       "        text-align: right;\n",
       "    }\n",
       "</style>\n",
       "<table border=\"1\" class=\"dataframe\">\n",
       "  <thead>\n",
       "    <tr style=\"text-align: right;\">\n",
       "      <th></th>\n",
       "      <th>CRIM</th>\n",
       "      <th>ZN</th>\n",
       "      <th>INDUS</th>\n",
       "      <th>CHAS</th>\n",
       "      <th>NOX</th>\n",
       "      <th>RM</th>\n",
       "      <th>AGE</th>\n",
       "      <th>DIS</th>\n",
       "      <th>RAD</th>\n",
       "      <th>TAX</th>\n",
       "      <th>PTRATIO</th>\n",
       "      <th>B</th>\n",
       "      <th>LSTAT</th>\n",
       "      <th>MEDV</th>\n",
       "    </tr>\n",
       "  </thead>\n",
       "  <tbody>\n",
       "    <tr>\n",
       "      <th>0</th>\n",
       "      <td>0.00632</td>\n",
       "      <td>18.0</td>\n",
       "      <td>2.31</td>\n",
       "      <td>0.0</td>\n",
       "      <td>0.538</td>\n",
       "      <td>6.575</td>\n",
       "      <td>65.2</td>\n",
       "      <td>4.0900</td>\n",
       "      <td>1.0</td>\n",
       "      <td>296.0</td>\n",
       "      <td>15.3</td>\n",
       "      <td>396.90</td>\n",
       "      <td>4.98</td>\n",
       "      <td>24.0</td>\n",
       "    </tr>\n",
       "    <tr>\n",
       "      <th>1</th>\n",
       "      <td>0.02731</td>\n",
       "      <td>0.0</td>\n",
       "      <td>7.07</td>\n",
       "      <td>0.0</td>\n",
       "      <td>0.469</td>\n",
       "      <td>6.421</td>\n",
       "      <td>78.9</td>\n",
       "      <td>4.9671</td>\n",
       "      <td>2.0</td>\n",
       "      <td>242.0</td>\n",
       "      <td>17.8</td>\n",
       "      <td>396.90</td>\n",
       "      <td>9.14</td>\n",
       "      <td>21.6</td>\n",
       "    </tr>\n",
       "    <tr>\n",
       "      <th>2</th>\n",
       "      <td>0.02729</td>\n",
       "      <td>0.0</td>\n",
       "      <td>7.07</td>\n",
       "      <td>0.0</td>\n",
       "      <td>0.469</td>\n",
       "      <td>7.185</td>\n",
       "      <td>61.1</td>\n",
       "      <td>4.9671</td>\n",
       "      <td>2.0</td>\n",
       "      <td>242.0</td>\n",
       "      <td>17.8</td>\n",
       "      <td>392.83</td>\n",
       "      <td>4.03</td>\n",
       "      <td>34.7</td>\n",
       "    </tr>\n",
       "  </tbody>\n",
       "</table>\n",
       "</div>"
      ],
      "text/plain": [
       "      CRIM    ZN  INDUS  CHAS    NOX     RM   AGE     DIS  RAD    TAX  \\\n",
       "0  0.00632  18.0   2.31   0.0  0.538  6.575  65.2  4.0900  1.0  296.0   \n",
       "1  0.02731   0.0   7.07   0.0  0.469  6.421  78.9  4.9671  2.0  242.0   \n",
       "2  0.02729   0.0   7.07   0.0  0.469  7.185  61.1  4.9671  2.0  242.0   \n",
       "\n",
       "   PTRATIO       B  LSTAT  MEDV  \n",
       "0     15.3  396.90   4.98  24.0  \n",
       "1     17.8  396.90   9.14  21.6  \n",
       "2     17.8  392.83   4.03  34.7  "
      ]
     },
     "execution_count": 6,
     "metadata": {},
     "output_type": "execute_result"
    }
   ],
   "source": [
    "boston_data.head(3)"
   ]
  },
  {
   "cell_type": "code",
   "execution_count": 4,
   "metadata": {},
   "outputs": [
    {
     "data": {
      "text/plain": [
       "(506, 14)"
      ]
     },
     "execution_count": 4,
     "metadata": {},
     "output_type": "execute_result"
    }
   ],
   "source": [
    "boston_data.shape"
   ]
  },
  {
   "cell_type": "markdown",
   "metadata": {},
   "source": [
    "## EDA"
   ]
  },
  {
   "cell_type": "markdown",
   "id": "0f8a5ebe-832b-4dd3-b738-a722ec82fb9c",
   "metadata": {},
   "source": [
    "### Determining Normality\n"
   ]
  },
  {
   "cell_type": "markdown",
   "id": "8951eb93-5906-45e0-b433-839fe78b5c17",
   "metadata": {},
   "source": [
    "Making our target variable normally distributed often will lead to better results\n",
    "\n",
    "If our target is not normally distributed, we can apply a transformation to it and then fit our regression to predict the transformed values.\n",
    "\n",
    "How can we tell if our target is normally distributed? There are two ways:\n",
    "\n",
    "* Using a Visual approach\n",
    "* Using a Statistical Test\n"
   ]
  },
  {
   "cell_type": "markdown",
   "id": "d2085917-51d5-429e-8ffd-25e085c85136",
   "metadata": {},
   "source": [
    "#### Using a Visual approach\n"
   ]
  },
  {
   "cell_type": "markdown",
   "id": "8ac55b90-3a8e-4238-90b3-4990bc28a353",
   "metadata": {},
   "source": [
    "#### Plotting a histogram:\n"
   ]
  },
  {
   "cell_type": "code",
   "execution_count": null,
   "id": "4311c0f5-55e0-47f6-b978-9752cf1e46b6",
   "metadata": {},
   "outputs": [],
   "source": [
    "# boston_data.MEDV.hist();"
   ]
  },
  {
   "cell_type": "code",
   "execution_count": 5,
   "metadata": {},
   "outputs": [
    {
     "data": {
      "image/png": "[encoded data removed]",
      "text/plain": [
       "<Figure size 600x300 with 1 Axes>"
      ]
     },
     "metadata": {},
     "output_type": "display_data"
    }
   ],
   "source": [
    "# Plot a histogram of the `MEDV` column using seaborn with KDE=True\n",
    "plt.figure(figsize=(6, 3))\n",
    "sns.histplot(boston_data.MEDV, kde=True, bins=50);"
   ]
  },
  {
   "cell_type": "markdown",
   "id": "c1817791-3bb6-4911-b418-55bb491176e0",
   "metadata": {},
   "source": [
    "The histogram does not look normal due to its right tail.\n"
   ]
  },
  {
   "cell_type": "markdown",
   "id": "14bda4e2-02a3-4ffc-8fe3-f47f8cda714c",
   "metadata": {},
   "source": [
    "#### Using a Statistical Test\n"
   ]
  },
  {
   "cell_type": "markdown",
   "id": "f8d2e246-6568-40ca-b75d-9de4dbf3b843",
   "metadata": {},
   "source": [
    "Without getting into Bayesian vs. frequentist debates, for the purposes of this lesson, the following will suffice:\n",
    "\n",
    "* This is a statistical test that tests whether a distribution is normally distributed or not. It isn't perfect, but suffice it to say: \n",
    "    * This test outputs a **p-value**. The _higher_ this p-value is the _closer_ the distribution is to normal.\n",
    "    * Frequentist statisticians would say that you accept that the distribution is normal (more specifically: fail to reject the null hypothesis that it is normal) if p > 0.05.\n"
   ]
  },
  {
   "cell_type": "code",
   "execution_count": 6,
   "id": "b32f83d4-806e-4896-ac6c-9a311d34ef78",
   "metadata": {},
   "outputs": [],
   "source": [
    "from scipy.stats.mstats import normaltest # D'Agostino K^2 Test"
   ]
  },
  {
   "cell_type": "code",
   "execution_count": 21,
   "id": "5c4d6626-3818-48c0-b47b-aa25c416ce14",
   "metadata": {},
   "outputs": [
    {
     "data": {
      "text/plain": [
       "np.float64(1.7583188871696095e-20)"
      ]
     },
     "execution_count": 21,
     "metadata": {},
     "output_type": "execute_result"
    }
   ],
   "source": [
    "# normaltest(boston_data.MEDV.values)\n",
    "get_k2test_pvalue(boston_data['MEDV'], round_digits=None)"
   ]
  },
  {
   "cell_type": "markdown",
   "id": "53b25f5e-c72c-4f08-89fb-68e12bd40098",
   "metadata": {},
   "source": [
    "p-value is _extremely_ low. Our **y** variable which we have been dealing with this whole time was not normally distributed!\n"
   ]
  },
  {
   "cell_type": "markdown",
   "id": "19cc4546-261e-4124-a6ed-fea6de5ce594",
   "metadata": {},
   "source": [
    "### Apply transformations to make target variable more normally distributed for Regression\n"
   ]
  },
  {
   "cell_type": "markdown",
   "id": "a591ab0e-fe9b-4496-bd36-b578d11db90d",
   "metadata": {},
   "source": [
    "Linear Regression assumes a normally distributed residuals which can be aided by transforming **y** variable which is the target variable. Let's try some common transformations to try and get **y** to be normally distributed: \n",
    "\n",
    "* Log Transformation\n",
    "* Square root Transformation\n",
    "* Box cox Transformation\n"
   ]
  },
  {
   "cell_type": "markdown",
   "id": "51bec534-1688-4776-a6e2-9cf526f6fcb3",
   "metadata": {},
   "source": [
    "### Log Transformation\n"
   ]
  },
  {
   "cell_type": "markdown",
   "id": "5c2f78c5-aeec-4d8b-a06b-4d7855cb3fe4",
   "metadata": {},
   "source": [
    "The log transformation can transform data that is significantly skewed right to be more normally distributed:\n"
   ]
  },
  {
   "cell_type": "code",
   "execution_count": 23,
   "id": "5c636751-5c8f-4284-bb07-31176db31f42",
   "metadata": {},
   "outputs": [
    {
     "data": {
      "image/png": "[encoded data removed]",
      "text/plain": [
       "<Figure size 640x480 with 1 Axes>"
      ]
     },
     "metadata": {},
     "output_type": "display_data"
    }
   ],
   "source": [
    "data = plot_exponential_data()"
   ]
  },
  {
   "cell_type": "code",
   "execution_count": 24,
   "id": "f5afc765-7c48-4507-9d69-2cd870aefa94",
   "metadata": {},
   "outputs": [
    {
     "data": {
      "image/png": "[encoded data removed]",
      "text/plain": [
       "<Figure size 640x480 with 1 Axes>"
      ]
     },
     "metadata": {},
     "output_type": "display_data"
    }
   ],
   "source": [
    "plt.hist(np.log(data));"
   ]
  },
  {
   "cell_type": "markdown",
   "id": "72caecc3-68ab-45f1-bcd6-340bf161506f",
   "metadata": {},
   "source": [
    "**Apply transformation to Boston Housing data:**\n"
   ]
  },
  {
   "cell_type": "code",
   "execution_count": 8,
   "id": "fa056db4-2b75-47f1-958b-7e0c19a7f69c",
   "metadata": {},
   "outputs": [],
   "source": [
    "log_medv = np.log(boston_data.MEDV)"
   ]
  },
  {
   "cell_type": "code",
   "execution_count": 9,
   "metadata": {},
   "outputs": [
    {
     "data": {
      "image/png": "[encoded data removed]",
      "text/plain": [
       "<Figure size 600x300 with 1 Axes>"
      ]
     },
     "metadata": {},
     "output_type": "display_data"
    }
   ],
   "source": [
    "plt.figure(figsize=(6, 3))\n",
    "sns.histplot(log_medv, kde=True, bins=50);"
   ]
  },
  {
   "cell_type": "code",
   "execution_count": 22,
   "id": "5117c643-47ca-45c5-8cc5-19e75d3a6d1c",
   "metadata": {},
   "outputs": [
    {
     "data": {
      "text/plain": [
       "0.000182"
      ]
     },
     "execution_count": 22,
     "metadata": {},
     "output_type": "execute_result"
    }
   ],
   "source": [
    "# normaltest(log_medv)\n",
    "get_k2test_pvalue(log_medv)"
   ]
  },
  {
   "cell_type": "markdown",
   "id": "6d8049c2-df7f-4c6f-90df-b3b675b37675",
   "metadata": {},
   "source": [
    "Conclusion: The output is closer to normal distribution, but still not completely normal.\n"
   ]
  },
  {
   "cell_type": "markdown",
   "id": "36a8d3b9-6908-4487-a09e-c65dd9bbdeea",
   "metadata": {},
   "source": [
    "### Square root Transformation\n",
    "\n",
    "The square root transformation is another transformation that can transform non-normally distributed data into normally distributed data:\n"
   ]
  },
  {
   "cell_type": "code",
   "execution_count": 30,
   "id": "d4de4753-57e8-4738-abab-e51b09e85213",
   "metadata": {},
   "outputs": [
    {
     "data": {
      "image/png": "[encoded data removed]",
      "text/plain": [
       "<Figure size 640x480 with 1 Axes>"
      ]
     },
     "metadata": {},
     "output_type": "display_data"
    }
   ],
   "source": [
    "data = plot_square_normal_data()"
   ]
  },
  {
   "cell_type": "markdown",
   "id": "7c0f440a-049e-4c98-ac32-ccd273a67294",
   "metadata": {},
   "source": [
    "You may notice that the output still exhibits a slight right skew.\n"
   ]
  },
  {
   "cell_type": "code",
   "execution_count": 31,
   "id": "bf8f7562-e0bb-4825-9544-e9ce7a26d9c1",
   "metadata": {},
   "outputs": [
    {
     "data": {
      "image/png": "[encoded data removed]",
      "text/plain": [
       "<Figure size 640x480 with 1 Axes>"
      ]
     },
     "metadata": {},
     "output_type": "display_data"
    }
   ],
   "source": [
    "plt.hist(np.sqrt(data));"
   ]
  },
  {
   "cell_type": "markdown",
   "id": "e9cd42cf-7318-4942-aad9-5bda096d1d19",
   "metadata": {},
   "source": [
    "#### Exercise\n"
   ]
  },
  {
   "cell_type": "markdown",
   "id": "1332c0fb-2f33-4575-b5db-b0e09900f6dc",
   "metadata": {},
   "source": [
    "Apply the square root transformation to the Boston Housing data target and test whether the result is normally distributed.\n"
   ]
  },
  {
   "cell_type": "code",
   "execution_count": 23,
   "id": "fc2c8aea-50a6-452a-968e-53812f207b75",
   "metadata": {},
   "outputs": [
    {
     "data": {
      "image/png": "[encoded data removed]",
      "text/plain": [
       "<Figure size 600x300 with 1 Axes>"
      ]
     },
     "metadata": {},
     "output_type": "display_data"
    }
   ],
   "source": [
    "# Apply the square root transformation to the Boston Housing data target MEDV\n",
    "# and plot the transformed data using seaborn with kde=True\n",
    "sqrt_medv = np.sqrt(boston_data.MEDV)\n",
    "plt.figure(figsize=(6, 3))\n",
    "sns.histplot(sqrt_medv, kde=True, bins=50);"
   ]
  },
  {
   "cell_type": "markdown",
   "id": "dff25b9b-9df6-4adb-9d46-c2c5b35b2b1e",
   "metadata": {},
   "source": [
    "<details><summary>Click here for a sample python solution</summary>\n",
    "\n",
    "```python\n",
    "sqrt_medv = np.sqrt(boston_data.MEDV)\n",
    "plt.hist(sqrt_medv)\n",
    "\n",
    "```\n"
   ]
  },
  {
   "cell_type": "code",
   "execution_count": 24,
   "id": "4c2bdf32-cac0-42d1-a787-bc6acae1974e",
   "metadata": {},
   "outputs": [
    {
     "data": {
      "text/plain": [
       "3.6e-05"
      ]
     },
     "execution_count": 24,
     "metadata": {},
     "output_type": "execute_result"
    }
   ],
   "source": [
    "# normaltest(sqrt_medv)\n",
    "get_k2test_pvalue(sqrt_medv)"
   ]
  },
  {
   "cell_type": "markdown",
   "id": "a9556fe3-8937-4dc5-a66b-98bafb16531e",
   "metadata": {},
   "source": [
    "### Box cox Transformation\n"
   ]
  },
  {
   "cell_type": "markdown",
   "id": "ce5adc1d-c9c8-4852-a66b-19617d0497c3",
   "metadata": {},
   "source": [
    "The box cox transformation is a parametrized transformation that tries to get distributions \"as close to a normal distribution as possible\".\n",
    "\n",
    "It is defined as:\n",
    "\n",
    "$$ \\text{boxcox}(y_i) = \\frac{y_i^{\\lambda} - 1}{\\lambda} $$\n",
    "\n",
    "You can think of as a generalization of the square root function: the square root function uses the exponent of 0.5, but box cox lets its exponent vary so it can find the best one.\n"
   ]
  },
  {
   "cell_type": "code",
   "execution_count": 34,
   "id": "169fd63c-63f8-4664-8856-b6d80ee9f4ac",
   "metadata": {},
   "outputs": [],
   "source": [
    "# from scipy.stats import boxcox"
   ]
  },
  {
   "cell_type": "code",
   "execution_count": 25,
   "id": "3cd7ca79-a62e-41d2-936e-41f2fa4fe9c1",
   "metadata": {},
   "outputs": [
    {
     "data": {
      "text/plain": [
       "0.2166"
      ]
     },
     "execution_count": 25,
     "metadata": {},
     "output_type": "execute_result"
    }
   ],
   "source": [
    "bc_result = stats.boxcox(boston_data.MEDV)\n",
    "boxcox_medv = bc_result[0]\n",
    "lambda_ = bc_result[1].round(4).item()\n",
    "lambda_"
   ]
  },
  {
   "cell_type": "code",
   "execution_count": null,
   "id": "41ed598c-0c13-440f-a545-3d35fc984ae3",
   "metadata": {},
   "outputs": [],
   "source": [
    "# boston_data['MEDV'].hist();"
   ]
  },
  {
   "cell_type": "code",
   "execution_count": 26,
   "id": "dfdf62b6-b3d8-4812-a228-a39137b4bb1c",
   "metadata": {},
   "outputs": [
    {
     "data": {
      "image/png": "[encoded data removed]",
      "text/plain": [
       "<Figure size 600x300 with 1 Axes>"
      ]
     },
     "metadata": {},
     "output_type": "display_data"
    }
   ],
   "source": [
    "# Plot the boxcox_medv data using seaborn with kde=True\n",
    "plt.figure(figsize=(6, 3))\n",
    "sns.histplot(boxcox_medv, kde=True, bins=50);"
   ]
  },
  {
   "cell_type": "code",
   "execution_count": 27,
   "id": "7eaa99a4-dbd7-4f4e-865a-a907e1cf9a0c",
   "metadata": {},
   "outputs": [
    {
     "data": {
      "text/plain": [
       "0.104689"
      ]
     },
     "execution_count": 27,
     "metadata": {},
     "output_type": "execute_result"
    }
   ],
   "source": [
    "# normaltest(boxcox_medv)\n",
    "get_k2test_pvalue(boxcox_medv)"
   ]
  },
  {
   "cell_type": "markdown",
   "id": "16b845c8-8c6b-4949-827d-83c2e89be66c",
   "metadata": {},
   "source": [
    "We find that the box cox results in a graph which is significantly more normally distributed (according to p value) than the other two distributions.This can be even above 0.05.\n",
    "\n",
    "Now that we have a normally distributed y-variable, let's test Regression using this transformed target variables.\n"
   ]
  },
  {
   "cell_type": "markdown",
   "id": "63921cc4-1784-4e79-82c7-68e24c6d3b8d",
   "metadata": {},
   "source": [
    "## Linear Regression\n"
   ]
  },
  {
   "cell_type": "code",
   "execution_count": 39,
   "id": "74f2bd8d-4378-4854-a339-38a2d1689c59",
   "metadata": {},
   "outputs": [],
   "source": [
    "# from sklearn.linear_model import LinearRegression\n",
    "# from sklearn.metrics import r2_score\n",
    "# from sklearn.model_selection import train_test_split\n",
    "# from sklearn.preprocessing import (StandardScaler, \n",
    "#                                    PolynomialFeatures)"
   ]
  },
  {
   "cell_type": "code",
   "execution_count": 29,
   "id": "f85ff94b-983e-43e1-a0dd-790aa5599ee0",
   "metadata": {},
   "outputs": [],
   "source": [
    "lr = sklearn.linear_model.LinearRegression()"
   ]
  },
  {
   "cell_type": "markdown",
   "id": "e63cc413-0e8e-431a-897e-463b2779b2dd",
   "metadata": {},
   "source": [
    "### **Define and load the predictor (X) and Target(y) variables**\n"
   ]
  },
  {
   "cell_type": "code",
   "execution_count": 30,
   "id": "316f2e08-3489-488e-aad6-4aabb0cdcf69",
   "metadata": {},
   "outputs": [],
   "source": [
    "y_col = \"MEDV\"\n",
    "\n",
    "X = boston_data.drop(y_col, axis=1)\n",
    "y = boston_data[y_col]"
   ]
  },
  {
   "cell_type": "code",
   "execution_count": 31,
   "metadata": {},
   "outputs": [
    {
     "data": {
      "text/plain": [
       "((506, 13), (506,))"
      ]
     },
     "execution_count": 31,
     "metadata": {},
     "output_type": "execute_result"
    }
   ],
   "source": [
    "X.shape, y.shape"
   ]
  },
  {
   "cell_type": "markdown",
   "id": "48ce8c5a-063e-480d-8ad6-858fb7483298",
   "metadata": {},
   "source": [
    "### **Create Polynomial Features**\n"
   ]
  },
  {
   "cell_type": "markdown",
   "metadata": {},
   "source": [
    "Let's skip this for now."
   ]
  },
  {
   "cell_type": "code",
   "execution_count": null,
   "id": "e3807e3b-ad4c-4b1d-ac31-173115c29caf",
   "metadata": {},
   "outputs": [],
   "source": [
    "# pf = PolynomialFeatures(degree=2, include_bias=False)\n",
    "# X_pf = pf.fit_transform(X)"
   ]
  },
  {
   "cell_type": "markdown",
   "id": "70a014d5-e84d-4e41-8dce-127c61e2151e",
   "metadata": {},
   "source": [
    "### **Split the data into Training and Test Sets**   \n",
    "\n",
    "The split ratio here is 0.7 and 0.3 which means we will assign **70%** data for training and **30%** data for testing\n"
   ]
  },
  {
   "cell_type": "code",
   "execution_count": 32,
   "id": "30c8b54d-b6ab-4137-90bb-27b554437a7c",
   "metadata": {},
   "outputs": [],
   "source": [
    "# X_train, X_test, y_train, y_test = train_test_split(X_pf, y, test_size=0.3, \n",
    "#                                                     random_state=72018)\n",
    "\n",
    "X_train, X_test, y_train, y_test = sklearn.model_selection.train_test_split(X, y, test_size=0.3, \n",
    "                                                    random_state=72018)"
   ]
  },
  {
   "cell_type": "code",
   "execution_count": 33,
   "metadata": {},
   "outputs": [
    {
     "data": {
      "text/plain": [
       "((506, 13), (354, 13), (152, 13))"
      ]
     },
     "execution_count": 33,
     "metadata": {},
     "output_type": "execute_result"
    }
   ],
   "source": [
    "X.shape, X_train.shape, X_test.shape"
   ]
  },
  {
   "cell_type": "code",
   "execution_count": 34,
   "metadata": {},
   "outputs": [
    {
     "data": {
      "text/plain": [
       "((506,), (354,), (152,))"
      ]
     },
     "execution_count": 34,
     "metadata": {},
     "output_type": "execute_result"
    }
   ],
   "source": [
    "y.shape, y_train.shape, y_test.shape"
   ]
  },
  {
   "cell_type": "markdown",
   "id": "caada91c-f4ee-459c-99f3-0f086ad0ece7",
   "metadata": {},
   "source": [
    "### **Normalize the training data using `StandardScaler` on `X_train`. Use fit_transform() function**\n"
   ]
  },
  {
   "cell_type": "code",
   "execution_count": 35,
   "id": "7dcc751f-fffb-4154-b409-66dc9daa4193",
   "metadata": {},
   "outputs": [],
   "source": [
    "s = sklearn.preprocessing.StandardScaler()\n",
    "X_train_s = s.fit_transform(X_train)\n"
   ]
  },
  {
   "cell_type": "code",
   "execution_count": 39,
   "metadata": {},
   "outputs": [],
   "source": [
    "X_test_s = s.transform(X_test)"
   ]
  },
  {
   "cell_type": "markdown",
   "id": "6fe1c6c9-dc24-4a40-ad1f-1652135cd511",
   "metadata": {},
   "source": [
    "### **Discuss: what transformation do we need to apply next?**\n",
    "\n",
    "Apply the appropriate transformation.\n"
   ]
  },
  {
   "cell_type": "code",
   "execution_count": 36,
   "id": "6cf53ce5-bf3f-4271-b578-1ea3a75f20bc",
   "metadata": {},
   "outputs": [],
   "source": [
    "# Enter your code here\n",
    "y_train_bc, lambda_2 = stats.boxcox(y_train)"
   ]
  },
  {
   "cell_type": "code",
   "execution_count": 38,
   "metadata": {},
   "outputs": [
    {
     "data": {
      "text/plain": [
       "((354,), 0.085992)"
      ]
     },
     "execution_count": 38,
     "metadata": {},
     "output_type": "execute_result"
    }
   ],
   "source": [
    "y_train_bc.shape, get_k2test_pvalue(y_train_bc)"
   ]
  },
  {
   "cell_type": "markdown",
   "id": "19ea4817-8530-43d8-9606-dec7e5f08782",
   "metadata": {},
   "source": [
    "<details><summary>Click here for a sample python solution</summary>\n",
    "\n",
    "```python\n",
    "    \n",
    "bc_result2 = boxcox(y_train)\n",
    "y_train_bc = bc_result2[0]\n",
    "lam2 = bc_result2[1]\n",
    "\n",
    "```\n"
   ]
  },
  {
   "cell_type": "markdown",
   "id": "b82d28ec-edff-4d52-828c-5a6e6c8d048e",
   "metadata": {},
   "source": [
    "As before, we'll now:\n",
    "\n",
    "1. Fit regression\n",
    "1. Transform testing data\n",
    "1. Predict on testing data\n"
   ]
  },
  {
   "cell_type": "code",
   "execution_count": null,
   "id": "dd41de74-1300-40e5-b737-b5ab1b932eee",
   "metadata": {},
   "outputs": [],
   "source": [
    "y_train_bc.shape"
   ]
  },
  {
   "cell_type": "code",
   "execution_count": 40,
   "id": "04f3471c-8fd0-43e5-ae34-5309b092cdd4",
   "metadata": {},
   "outputs": [
    {
     "data": {
      "text/html": [
       "<style>#sk-container-id-1 {\n",
       "  /* Definition of color scheme common for light and dark mode */\n",
       "  --sklearn-color-text: #000;\n",
       "  --sklearn-color-text-muted: #666;\n",
       "  --sklearn-color-line: gray;\n",
       "  /* Definition of color scheme for unfitted estimators */\n",
       "  --sklearn-color-unfitted-level-0: #fff5e6;\n",
       "  --sklearn-color-unfitted-level-1: #f6e4d2;\n",
       "  --sklearn-color-unfitted-level-2: #ffe0b3;\n",
       "  --sklearn-color-unfitted-level-3: chocolate;\n",
       "  /* Definition of color scheme for fitted estimators */\n",
       "  --sklearn-color-fitted-level-0: #f0f8ff;\n",
       "  --sklearn-color-fitted-level-1: #d4ebff;\n",
       "  --sklearn-color-fitted-level-2: #b3dbfd;\n",
       "  --sklearn-color-fitted-level-3: cornflowerblue;\n",
       "\n",
       "  /* Specific color for light theme */\n",
       "  --sklearn-color-text-on-default-background: var(--sg-text-color, var(--theme-code-foreground, var(--jp-content-font-color1, black)));\n",
       "  --sklearn-color-background: var(--sg-background-color, var(--theme-background, var(--jp-layout-color0, white)));\n",
       "  --sklearn-color-border-box: var(--sg-text-color, var(--theme-code-foreground, var(--jp-content-font-color1, black)));\n",
       "  --sklearn-color-icon: #696969;\n",
       "\n",
       "  @media (prefers-color-scheme: dark) {\n",
       "    /* Redefinition of color scheme for dark theme */\n",
       "    --sklearn-color-text-on-default-background: var(--sg-text-color, var(--theme-code-foreground, var(--jp-content-font-color1, white)));\n",
       "    --sklearn-color-background: var(--sg-background-color, var(--theme-background, var(--jp-layout-color0, #111)));\n",
       "    --sklearn-color-border-box: var(--sg-text-color, var(--theme-code-foreground, var(--jp-content-font-color1, white)));\n",
       "    --sklearn-color-icon: #878787;\n",
       "  }\n",
       "}\n",
       "\n",
       "#sk-container-id-1 {\n",
       "  color: var(--sklearn-color-text);\n",
       "}\n",
       "\n",
       "#sk-container-id-1 pre {\n",
       "  padding: 0;\n",
       "}\n",
       "\n",
       "#sk-container-id-1 input.sk-hidden--visually {\n",
       "  border: 0;\n",
       "  clip: rect(1px 1px 1px 1px);\n",
       "  clip: rect(1px, 1px, 1px, 1px);\n",
       "  height: 1px;\n",
       "  margin: -1px;\n",
       "  overflow: hidden;\n",
       "  padding: 0;\n",
       "  position: absolute;\n",
       "  width: 1px;\n",
       "}\n",
       "\n",
       "#sk-container-id-1 div.sk-dashed-wrapped {\n",
       "  border: 1px dashed var(--sklearn-color-line);\n",
       "  margin: 0 0.4em 0.5em 0.4em;\n",
       "  box-sizing: border-box;\n",
       "  padding-bottom: 0.4em;\n",
       "  background-color: var(--sklearn-color-background);\n",
       "}\n",
       "\n",
       "#sk-container-id-1 div.sk-container {\n",
       "  /* jupyter's `normalize.less` sets `[hidden] { display: none; }`\n",
       "     but bootstrap.min.css set `[hidden] { display: none !important; }`\n",
       "     so we also need the `!important` here to be able to override the\n",
       "     default hidden behavior on the sphinx rendered scikit-learn.org.\n",
       "     See: https://github.com/scikit-learn/scikit-learn/issues/21755 */\n",
       "  display: inline-block !important;\n",
       "  position: relative;\n",
       "}\n",
       "\n",
       "#sk-container-id-1 div.sk-text-repr-fallback {\n",
       "  display: none;\n",
       "}\n",
       "\n",
       "div.sk-parallel-item,\n",
       "div.sk-serial,\n",
       "div.sk-item {\n",
       "  /* draw centered vertical line to link estimators */\n",
       "  background-image: linear-gradient(var(--sklearn-color-text-on-default-background), var(--sklearn-color-text-on-default-background));\n",
       "  background-size: 2px 100%;\n",
       "  background-repeat: no-repeat;\n",
       "  background-position: center center;\n",
       "}\n",
       "\n",
       "/* Parallel-specific style estimator block */\n",
       "\n",
       "#sk-container-id-1 div.sk-parallel-item::after {\n",
       "  content: \"\";\n",
       "  width: 100%;\n",
       "  border-bottom: 2px solid var(--sklearn-color-text-on-default-background);\n",
       "  flex-grow: 1;\n",
       "}\n",
       "\n",
       "#sk-container-id-1 div.sk-parallel {\n",
       "  display: flex;\n",
       "  align-items: stretch;\n",
       "  justify-content: center;\n",
       "  background-color: var(--sklearn-color-background);\n",
       "  position: relative;\n",
       "}\n",
       "\n",
       "#sk-container-id-1 div.sk-parallel-item {\n",
       "  display: flex;\n",
       "  flex-direction: column;\n",
       "}\n",
       "\n",
       "#sk-container-id-1 div.sk-parallel-item:first-child::after {\n",
       "  align-self: flex-end;\n",
       "  width: 50%;\n",
       "}\n",
       "\n",
       "#sk-container-id-1 div.sk-parallel-item:last-child::after {\n",
       "  align-self: flex-start;\n",
       "  width: 50%;\n",
       "}\n",
       "\n",
       "#sk-container-id-1 div.sk-parallel-item:only-child::after {\n",
       "  width: 0;\n",
       "}\n",
       "\n",
       "/* Serial-specific style estimator block */\n",
       "\n",
       "#sk-container-id-1 div.sk-serial {\n",
       "  display: flex;\n",
       "  flex-direction: column;\n",
       "  align-items: center;\n",
       "  background-color: var(--sklearn-color-background);\n",
       "  padding-right: 1em;\n",
       "  padding-left: 1em;\n",
       "}\n",
       "\n",
       "\n",
       "/* Toggleable style: style used for estimator/Pipeline/ColumnTransformer box that is\n",
       "clickable and can be expanded/collapsed.\n",
       "- Pipeline and ColumnTransformer use this feature and define the default style\n",
       "- Estimators will overwrite some part of the style using the `sk-estimator` class\n",
       "*/\n",
       "\n",
       "/* Pipeline and ColumnTransformer style (default) */\n",
       "\n",
       "#sk-container-id-1 div.sk-toggleable {\n",
       "  /* Default theme specific background. It is overwritten whether we have a\n",
       "  specific estimator or a Pipeline/ColumnTransformer */\n",
       "  background-color: var(--sklearn-color-background);\n",
       "}\n",
       "\n",
       "/* Toggleable label */\n",
       "#sk-container-id-1 label.sk-toggleable__label {\n",
       "  cursor: pointer;\n",
       "  display: flex;\n",
       "  width: 100%;\n",
       "  margin-bottom: 0;\n",
       "  padding: 0.5em;\n",
       "  box-sizing: border-box;\n",
       "  text-align: center;\n",
       "  align-items: start;\n",
       "  justify-content: space-between;\n",
       "  gap: 0.5em;\n",
       "}\n",
       "\n",
       "#sk-container-id-1 label.sk-toggleable__label .caption {\n",
       "  font-size: 0.6rem;\n",
       "  font-weight: lighter;\n",
       "  color: var(--sklearn-color-text-muted);\n",
       "}\n",
       "\n",
       "#sk-container-id-1 label.sk-toggleable__label-arrow:before {\n",
       "  /* Arrow on the left of the label */\n",
       "  content: \"▸\";\n",
       "  float: left;\n",
       "  margin-right: 0.25em;\n",
       "  color: var(--sklearn-color-icon);\n",
       "}\n",
       "\n",
       "#sk-container-id-1 label.sk-toggleable__label-arrow:hover:before {\n",
       "  color: var(--sklearn-color-text);\n",
       "}\n",
       "\n",
       "/* Toggleable content - dropdown */\n",
       "\n",
       "#sk-container-id-1 div.sk-toggleable__content {\n",
       "  max-height: 0;\n",
       "  max-width: 0;\n",
       "  overflow: hidden;\n",
       "  text-align: left;\n",
       "  /* unfitted */\n",
       "  background-color: var(--sklearn-color-unfitted-level-0);\n",
       "}\n",
       "\n",
       "#sk-container-id-1 div.sk-toggleable__content.fitted {\n",
       "  /* fitted */\n",
       "  background-color: var(--sklearn-color-fitted-level-0);\n",
       "}\n",
       "\n",
       "#sk-container-id-1 div.sk-toggleable__content pre {\n",
       "  margin: 0.2em;\n",
       "  border-radius: 0.25em;\n",
       "  color: var(--sklearn-color-text);\n",
       "  /* unfitted */\n",
       "  background-color: var(--sklearn-color-unfitted-level-0);\n",
       "}\n",
       "\n",
       "#sk-container-id-1 div.sk-toggleable__content.fitted pre {\n",
       "  /* unfitted */\n",
       "  background-color: var(--sklearn-color-fitted-level-0);\n",
       "}\n",
       "\n",
       "#sk-container-id-1 input.sk-toggleable__control:checked~div.sk-toggleable__content {\n",
       "  /* Expand drop-down */\n",
       "  max-height: 200px;\n",
       "  max-width: 100%;\n",
       "  overflow: auto;\n",
       "}\n",
       "\n",
       "#sk-container-id-1 input.sk-toggleable__control:checked~label.sk-toggleable__label-arrow:before {\n",
       "  content: \"▾\";\n",
       "}\n",
       "\n",
       "/* Pipeline/ColumnTransformer-specific style */\n",
       "\n",
       "#sk-container-id-1 div.sk-label input.sk-toggleable__control:checked~label.sk-toggleable__label {\n",
       "  color: var(--sklearn-color-text);\n",
       "  background-color: var(--sklearn-color-unfitted-level-2);\n",
       "}\n",
       "\n",
       "#sk-container-id-1 div.sk-label.fitted input.sk-toggleable__control:checked~label.sk-toggleable__label {\n",
       "  background-color: var(--sklearn-color-fitted-level-2);\n",
       "}\n",
       "\n",
       "/* Estimator-specific style */\n",
       "\n",
       "/* Colorize estimator box */\n",
       "#sk-container-id-1 div.sk-estimator input.sk-toggleable__control:checked~label.sk-toggleable__label {\n",
       "  /* unfitted */\n",
       "  background-color: var(--sklearn-color-unfitted-level-2);\n",
       "}\n",
       "\n",
       "#sk-container-id-1 div.sk-estimator.fitted input.sk-toggleable__control:checked~label.sk-toggleable__label {\n",
       "  /* fitted */\n",
       "  background-color: var(--sklearn-color-fitted-level-2);\n",
       "}\n",
       "\n",
       "#sk-container-id-1 div.sk-label label.sk-toggleable__label,\n",
       "#sk-container-id-1 div.sk-label label {\n",
       "  /* The background is the default theme color */\n",
       "  color: var(--sklearn-color-text-on-default-background);\n",
       "}\n",
       "\n",
       "/* On hover, darken the color of the background */\n",
       "#sk-container-id-1 div.sk-label:hover label.sk-toggleable__label {\n",
       "  color: var(--sklearn-color-text);\n",
       "  background-color: var(--sklearn-color-unfitted-level-2);\n",
       "}\n",
       "\n",
       "/* Label box, darken color on hover, fitted */\n",
       "#sk-container-id-1 div.sk-label.fitted:hover label.sk-toggleable__label.fitted {\n",
       "  color: var(--sklearn-color-text);\n",
       "  background-color: var(--sklearn-color-fitted-level-2);\n",
       "}\n",
       "\n",
       "/* Estimator label */\n",
       "\n",
       "#sk-container-id-1 div.sk-label label {\n",
       "  font-family: monospace;\n",
       "  font-weight: bold;\n",
       "  display: inline-block;\n",
       "  line-height: 1.2em;\n",
       "}\n",
       "\n",
       "#sk-container-id-1 div.sk-label-container {\n",
       "  text-align: center;\n",
       "}\n",
       "\n",
       "/* Estimator-specific */\n",
       "#sk-container-id-1 div.sk-estimator {\n",
       "  font-family: monospace;\n",
       "  border: 1px dotted var(--sklearn-color-border-box);\n",
       "  border-radius: 0.25em;\n",
       "  box-sizing: border-box;\n",
       "  margin-bottom: 0.5em;\n",
       "  /* unfitted */\n",
       "  background-color: var(--sklearn-color-unfitted-level-0);\n",
       "}\n",
       "\n",
       "#sk-container-id-1 div.sk-estimator.fitted {\n",
       "  /* fitted */\n",
       "  background-color: var(--sklearn-color-fitted-level-0);\n",
       "}\n",
       "\n",
       "/* on hover */\n",
       "#sk-container-id-1 div.sk-estimator:hover {\n",
       "  /* unfitted */\n",
       "  background-color: var(--sklearn-color-unfitted-level-2);\n",
       "}\n",
       "\n",
       "#sk-container-id-1 div.sk-estimator.fitted:hover {\n",
       "  /* fitted */\n",
       "  background-color: var(--sklearn-color-fitted-level-2);\n",
       "}\n",
       "\n",
       "/* Specification for estimator info (e.g. \"i\" and \"?\") */\n",
       "\n",
       "/* Common style for \"i\" and \"?\" */\n",
       "\n",
       ".sk-estimator-doc-link,\n",
       "a:link.sk-estimator-doc-link,\n",
       "a:visited.sk-estimator-doc-link {\n",
       "  float: right;\n",
       "  font-size: smaller;\n",
       "  line-height: 1em;\n",
       "  font-family: monospace;\n",
       "  background-color: var(--sklearn-color-background);\n",
       "  border-radius: 1em;\n",
       "  height: 1em;\n",
       "  width: 1em;\n",
       "  text-decoration: none !important;\n",
       "  margin-left: 0.5em;\n",
       "  text-align: center;\n",
       "  /* unfitted */\n",
       "  border: var(--sklearn-color-unfitted-level-1) 1pt solid;\n",
       "  color: var(--sklearn-color-unfitted-level-1);\n",
       "}\n",
       "\n",
       ".sk-estimator-doc-link.fitted,\n",
       "a:link.sk-estimator-doc-link.fitted,\n",
       "a:visited.sk-estimator-doc-link.fitted {\n",
       "  /* fitted */\n",
       "  border: var(--sklearn-color-fitted-level-1) 1pt solid;\n",
       "  color: var(--sklearn-color-fitted-level-1);\n",
       "}\n",
       "\n",
       "/* On hover */\n",
       "div.sk-estimator:hover .sk-estimator-doc-link:hover,\n",
       ".sk-estimator-doc-link:hover,\n",
       "div.sk-label-container:hover .sk-estimator-doc-link:hover,\n",
       ".sk-estimator-doc-link:hover {\n",
       "  /* unfitted */\n",
       "  background-color: var(--sklearn-color-unfitted-level-3);\n",
       "  color: var(--sklearn-color-background);\n",
       "  text-decoration: none;\n",
       "}\n",
       "\n",
       "div.sk-estimator.fitted:hover .sk-estimator-doc-link.fitted:hover,\n",
       ".sk-estimator-doc-link.fitted:hover,\n",
       "div.sk-label-container:hover .sk-estimator-doc-link.fitted:hover,\n",
       ".sk-estimator-doc-link.fitted:hover {\n",
       "  /* fitted */\n",
       "  background-color: var(--sklearn-color-fitted-level-3);\n",
       "  color: var(--sklearn-color-background);\n",
       "  text-decoration: none;\n",
       "}\n",
       "\n",
       "/* Span, style for the box shown on hovering the info icon */\n",
       ".sk-estimator-doc-link span {\n",
       "  display: none;\n",
       "  z-index: 9999;\n",
       "  position: relative;\n",
       "  font-weight: normal;\n",
       "  right: .2ex;\n",
       "  padding: .5ex;\n",
       "  margin: .5ex;\n",
       "  width: min-content;\n",
       "  min-width: 20ex;\n",
       "  max-width: 50ex;\n",
       "  color: var(--sklearn-color-text);\n",
       "  box-shadow: 2pt 2pt 4pt #999;\n",
       "  /* unfitted */\n",
       "  background: var(--sklearn-color-unfitted-level-0);\n",
       "  border: .5pt solid var(--sklearn-color-unfitted-level-3);\n",
       "}\n",
       "\n",
       ".sk-estimator-doc-link.fitted span {\n",
       "  /* fitted */\n",
       "  background: var(--sklearn-color-fitted-level-0);\n",
       "  border: var(--sklearn-color-fitted-level-3);\n",
       "}\n",
       "\n",
       ".sk-estimator-doc-link:hover span {\n",
       "  display: block;\n",
       "}\n",
       "\n",
       "/* \"?\"-specific style due to the `<a>` HTML tag */\n",
       "\n",
       "#sk-container-id-1 a.estimator_doc_link {\n",
       "  float: right;\n",
       "  font-size: 1rem;\n",
       "  line-height: 1em;\n",
       "  font-family: monospace;\n",
       "  background-color: var(--sklearn-color-background);\n",
       "  border-radius: 1rem;\n",
       "  height: 1rem;\n",
       "  width: 1rem;\n",
       "  text-decoration: none;\n",
       "  /* unfitted */\n",
       "  color: var(--sklearn-color-unfitted-level-1);\n",
       "  border: var(--sklearn-color-unfitted-level-1) 1pt solid;\n",
       "}\n",
       "\n",
       "#sk-container-id-1 a.estimator_doc_link.fitted {\n",
       "  /* fitted */\n",
       "  border: var(--sklearn-color-fitted-level-1) 1pt solid;\n",
       "  color: var(--sklearn-color-fitted-level-1);\n",
       "}\n",
       "\n",
       "/* On hover */\n",
       "#sk-container-id-1 a.estimator_doc_link:hover {\n",
       "  /* unfitted */\n",
       "  background-color: var(--sklearn-color-unfitted-level-3);\n",
       "  color: var(--sklearn-color-background);\n",
       "  text-decoration: none;\n",
       "}\n",
       "\n",
       "#sk-container-id-1 a.estimator_doc_link.fitted:hover {\n",
       "  /* fitted */\n",
       "  background-color: var(--sklearn-color-fitted-level-3);\n",
       "}\n",
       "</style><div id=\"sk-container-id-1\" class=\"sk-top-container\"><div class=\"sk-text-repr-fallback\"><pre>LinearRegression()</pre><b>In a Jupyter environment, please rerun this cell to show the HTML representation or trust the notebook. <br />On GitHub, the HTML representation is unable to render, please try loading this page with nbviewer.org.</b></div><div class=\"sk-container\" hidden><div class=\"sk-item\"><div class=\"sk-estimator fitted sk-toggleable\"><input class=\"sk-toggleable__control sk-hidden--visually\" id=\"sk-estimator-id-1\" type=\"checkbox\" checked><label for=\"sk-estimator-id-1\" class=\"sk-toggleable__label fitted sk-toggleable__label-arrow\"><div><div>LinearRegression</div></div><div><a class=\"sk-estimator-doc-link fitted\" rel=\"noreferrer\" target=\"_blank\" href=\"https://scikit-learn.org/1.6/modules/generated/sklearn.linear_model.LinearRegression.html\">?<span>Documentation for LinearRegression</span></a><span class=\"sk-estimator-doc-link fitted\">i<span>Fitted</span></span></div></label><div class=\"sk-toggleable__content fitted\"><pre>LinearRegression()</pre></div> </div></div></div></div>"
      ],
      "text/plain": [
       "LinearRegression()"
      ]
     },
     "execution_count": 40,
     "metadata": {},
     "output_type": "execute_result"
    }
   ],
   "source": [
    "lr.fit(X_train_s, y_train_bc)\n",
    "# X_test_s = s.transform(X_test)"
   ]
  },
  {
   "cell_type": "code",
   "execution_count": 41,
   "metadata": {},
   "outputs": [],
   "source": [
    "y_pred_bc = lr.predict(X_test_s)"
   ]
  },
  {
   "cell_type": "markdown",
   "id": "9adbc269-68cb-4a12-a10a-d5556ee9c91d",
   "metadata": {},
   "source": [
    "#### Discussion\n",
    "\n",
    "* Are we done?\n",
    "* What did we predict?\n",
    "* How would you interpret these predictions?\n"
   ]
  },
  {
   "cell_type": "markdown",
   "id": "340d3011-10f9-4ad6-98a6-c236d1f1aeef",
   "metadata": {},
   "source": [
    "### Apply inverse transformations to be able to use these in a Regression context\n"
   ]
  },
  {
   "cell_type": "markdown",
   "id": "eefd944e-6c31-4ec3-bc9e-a15a561127f2",
   "metadata": {},
   "source": [
    "Every transformation has an inverse transformation. The inverse transformation of $f(x) = \\sqrt{x}$ is $f^{-1}(x) = x^2$, for example. Box cox has an inverse transformation as well: notice that we have to pass in the lambda value that we found from before:\n"
   ]
  },
  {
   "cell_type": "code",
   "execution_count": null,
   "id": "7a5dd78d-f7a5-4e19-a873-2aba08862acc",
   "metadata": {},
   "outputs": [],
   "source": [
    "# from scipy.special import inv_boxcox"
   ]
  },
  {
   "cell_type": "code",
   "execution_count": null,
   "id": "345a27f8-de2b-4165-a7b2-5c8c5b7f219d",
   "metadata": {},
   "outputs": [],
   "source": [
    "# inv_boxcox(boxcox_medv, lam)[:10]"
   ]
  },
  {
   "cell_type": "code",
   "execution_count": null,
   "id": "ff2071f7-74b3-44c2-9f41-196064c025e2",
   "metadata": {},
   "outputs": [],
   "source": [
    "# boston_data['MEDV'].values[:10]"
   ]
  },
  {
   "cell_type": "markdown",
   "id": "1bb07f06-7140-44a9-8c8f-d53121d87ffe",
   "metadata": {},
   "source": [
    "Exactly the same, as we would hope!\n"
   ]
  },
  {
   "cell_type": "markdown",
   "id": "0a6e6894-29c3-4270-a487-f36bc5cfcb9e",
   "metadata": {},
   "source": [
    "### Exercise:\n",
    "\n",
    "1. Apply the appropriate inverse transformation to `y_pred_bc`.\n",
    "2. Calculate the $R^2$ using the result of this inverse transformation and `y_test`.  \n",
    "\n",
    "**Hint:** Use the **inv_boxcox()** function to get the transformed predicted values\n"
   ]
  },
  {
   "cell_type": "code",
   "execution_count": 44,
   "id": "7d97f988-b4e1-44c4-bd95-ed104289edf6",
   "metadata": {},
   "outputs": [],
   "source": [
    "y_pred_inv_boxcox = scipy.special.inv_boxcox(y_pred_bc, lambda_2)"
   ]
  },
  {
   "cell_type": "code",
   "execution_count": 49,
   "metadata": {},
   "outputs": [
    {
     "name": "stdout",
     "output_type": "stream",
     "text": [
      "R^2: 0.7375\n"
     ]
    }
   ],
   "source": [
    "r2 = sklearn.metrics.r2_score(y_test, y_pred_inv_boxcox)\n",
    "print(f\"R^2: {r2:.4f}\")"
   ]
  },
  {
   "cell_type": "markdown",
   "id": "be5c5121-db8e-4513-a3f7-ee6e856ecba4",
   "metadata": {},
   "source": [
    "<details><summary>Click here for a sample python solution</summary>\n",
    "\n",
    "```python\n",
    "y_pred_tran = inv_boxcox(y_pred_bc,lam2)\n",
    "r2_score(y_test,y_pred_tran)\n",
    "\n",
    "```\n"
   ]
  },
  {
   "cell_type": "markdown",
   "id": "d99e1d58-9d1b-4f6f-b4ef-5e425b5502f0",
   "metadata": {},
   "source": [
    "## Practice Exercise: Determine the R^2 of a LinearRegression without the box cox transformation.\n"
   ]
  },
  {
   "cell_type": "code",
   "execution_count": 50,
   "id": "e7732c59-8c07-45aa-b597-0e34df8d4f7c",
   "metadata": {},
   "outputs": [
    {
     "name": "stdout",
     "output_type": "stream",
     "text": [
      "R^2 without Box-Cox: 0.6982\n"
     ]
    }
   ],
   "source": [
    "# Determine the R^2 of the model without the Box-Cox transformation\n",
    "lr = sklearn.linear_model.LinearRegression()\n",
    "lr.fit(X_train_s, y_train) # instead of y_train_bc\n",
    "y_pred = lr.predict(X_test_s)\n",
    "r2_no_bc = sklearn.metrics.r2_score(y_test, y_pred)\n",
    "print(f\"R^2 without Box-Cox: {r2_no_bc:.4f}\")"
   ]
  },
  {
   "cell_type": "markdown",
   "id": "02b06db4-c7af-4e1b-95c0-0a392d2154b5",
   "metadata": {},
   "source": [
    "<details><summary>Click here for a sample python solution</summary>\n",
    "\n",
    "```python\n",
    "lr = LinearRegression()\n",
    "lr.fit(X_train_s,y_train)\n",
    "lr_pred = lr.predict(X_test_s)\n",
    "r2_score(y_test,lr_pred)\n",
    "\n",
    "```\n"
   ]
  }
 ],
 "metadata": {
  "kernelspec": {
   "display_name": "env",
   "language": "python",
   "name": "python3"
  },
  "language_info": {
   "codemirror_mode": {
    "name": "ipython",
    "version": 3
   },
   "file_extension": ".py",
   "mimetype": "text/x-python",
   "name": "python",
   "nbconvert_exporter": "python",
   "pygments_lexer": "ipython3",
   "version": "3.13.1"
  },
  "prev_pub_hash": "8ff7d2bd51414f66643239307dd66c2b4194e394754faa9094ec58484e4c02d3"
 },
 "nbformat": 4,
 "nbformat_minor": 4
}
